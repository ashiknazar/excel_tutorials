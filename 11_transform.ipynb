{
 "cells": [
  {
   "cell_type": "markdown",
   "metadata": {},
   "source": [
    "- to delete rows\n",
    "   - Home ->  (reduce rows)->Remove rows(remove top rows,remove bottom rows)\n"
   ]
  },
  {
   "cell_type": "markdown",
   "metadata": {},
   "source": [
    "- venue\n",
    "  - Add column\n",
    "    - Extract  - > Text Before Delimiter\n",
    "    "
   ]
  },
  {
   "cell_type": "markdown",
   "metadata": {},
   "source": [
    "- score 2-4  \n",
    "  - Home -> Split Column -> By Delimter\n",
    "  "
   ]
  },
  {
   "cell_type": "markdown",
   "metadata": {},
   "source": [
    "- To upper case\n",
    "   - Transform -> Format (text column)->Uppercase\n"
   ]
  },
  {
   "cell_type": "markdown",
   "metadata": {},
   "source": [
    "- Home -> **Close&Load**"
   ]
  },
  {
   "cell_type": "markdown",
   "metadata": {},
   "source": [
    "- gmail extract domain\n",
    "  - AddColumn->(from text)Extract ->bte delim"
   ]
  },
  {
   "cell_type": "markdown",
   "metadata": {},
   "source": [
    "___"
   ]
  },
  {
   "cell_type": "markdown",
   "metadata": {},
   "source": [
    "- Merge\n",
    "  - prefix,firstname,lastname\n",
    "  - AddColumn->MergeColumns(from text) "
   ]
  },
  {
   "cell_type": "markdown",
   "metadata": {},
   "source": [
    "- Home \n",
    "   - remove columns"
   ]
  },
  {
   "cell_type": "markdown",
   "metadata": {},
   "source": [
    "___\n",
    "#### Numerical\n",
    "- select column -> Transform -> Statistics -> count values\n",
    "- avg\n",
    "- min,max\n",
    "<br><br>\n",
    "- Transform ->(Number Column) -> Rounding\n",
    "\n",
    " "
   ]
  },
  {
   "cell_type": "markdown",
   "metadata": {},
   "source": [
    "- calculations\n",
    "   - select a column -> Add Column -> Custom column(general) -> name -> give formula ->  [ProductPrice]*0.9  -> ok\n",
    "   "
   ]
  },
  {
   "cell_type": "markdown",
   "metadata": {},
   "source": [
    "___"
   ]
  },
  {
   "cell_type": "markdown",
   "metadata": {},
   "source": [
    "- Home -> (Transform) **Use First Row as Headers**"
   ]
  },
  {
   "cell_type": "markdown",
   "metadata": {},
   "source": [
    "- if date settings not correct\n",
    "  - file -> options and settings ->query options -> regional settings -> english(US) \n",
    "  - Transform -> DataType(Date) ->replace current\n",
    "  "
   ]
  },
  {
   "cell_type": "markdown",
   "metadata": {},
   "source": [
    "- Transform -> Date -> Earliest \n",
    "- Add Column -> \"  \""
   ]
  },
  {
   "cell_type": "markdown",
   "metadata": {},
   "source": [
    "___"
   ]
  },
  {
   "cell_type": "markdown",
   "metadata": {},
   "source": [
    "- **merge**"
   ]
  },
  {
   "cell_type": "markdown",
   "metadata": {},
   "source": [
    "- open a sheet -> get data -> from folder ->give path -> ok  -> combine and transform"
   ]
  },
  {
   "cell_type": "markdown",
   "metadata": {},
   "source": [
    "___"
   ]
  },
  {
   "cell_type": "markdown",
   "metadata": {},
   "source": [
    "- **join horizontally**"
   ]
  },
  {
   "cell_type": "markdown",
   "metadata": {},
   "source": [
    "- excel file with three worksheets\n",
    "- Data -> getdata -> form excel workbook ->choose \n",
    "- selct one and ->Transform data ->\n",
    "- Home -> (New Query)New Source ->File ->select same work book ->import \n",
    "- choose another table from same workbook -> ok\n",
    "- Home -> (Transform)Use First Row as Headers"
   ]
  },
  {
   "cell_type": "markdown",
   "metadata": {},
   "source": [
    "- Home -> (Combine)Merge Queries ->Merge Queries \n",
    "- first table will be already present\n",
    "- choose second table at the column below\n",
    "- choose Join Kind\n",
    "- choose common columns\n",
    "- ok "
   ]
  },
  {
   "cell_type": "markdown",
   "metadata": {},
   "source": [
    "- at the last column ther will be some symbol to expand ->ok "
   ]
  },
  {
   "cell_type": "markdown",
   "metadata": {},
   "source": []
  }
 ],
 "metadata": {
  "language_info": {
   "name": "python"
  }
 },
 "nbformat": 4,
 "nbformat_minor": 2
}

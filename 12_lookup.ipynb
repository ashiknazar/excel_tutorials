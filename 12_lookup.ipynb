{
 "cells": [
  {
   "cell_type": "markdown",
   "id": "175c4d3e",
   "metadata": {},
   "source": [
    "![](images/lookup.png)"
   ]
  },
  {
   "cell_type": "markdown",
   "id": "03ee5b08",
   "metadata": {},
   "source": [
    "#### MATCH"
   ]
  },
  {
   "cell_type": "markdown",
   "id": "7016d453",
   "metadata": {},
   "source": [
    "- SYNTAX <BR>\n",
    " =MATCH(lookup_value, lookup_array, [match_type])\n"
   ]
  },
  {
   "cell_type": "markdown",
   "id": "ea24bf6b",
   "metadata": {},
   "source": [
    "```excel\n",
    "= MATCH(\"C\",B1:E1,0)"
   ]
  },
  {
   "cell_type": "markdown",
   "id": "581f0ced",
   "metadata": {},
   "source": [
    "- 2\n",
    "___"
   ]
  },
  {
   "cell_type": "markdown",
   "id": "e91ee34a",
   "metadata": {},
   "source": [
    "```excel\n",
    "=MATCH(\"H\",A2:A5,0)"
   ]
  },
  {
   "cell_type": "markdown",
   "id": "77d086db",
   "metadata": {},
   "source": [
    "- 3\n",
    "___"
   ]
  },
  {
   "cell_type": "markdown",
   "id": "54d95995",
   "metadata": {},
   "source": [
    "### INDEX "
   ]
  },
  {
   "cell_type": "markdown",
   "id": "ac7e39ab",
   "metadata": {},
   "source": [
    "- SYNTAX\n",
    "   - `=INDEX(array, row_num, [column_num])`\n",
    "   "
   ]
  },
  {
   "cell_type": "markdown",
   "id": "f84d62f4",
   "metadata": {},
   "source": [
    "```excel\n",
    "=INDEX(A1:C3, 2, 3)"
   ]
  },
  {
   "cell_type": "markdown",
   "id": "17cdfdc3",
   "metadata": {},
   "source": []
  },
  {
   "cell_type": "markdown",
   "id": "84393f15",
   "metadata": {},
   "source": [
    "___"
   ]
  },
  {
   "cell_type": "markdown",
   "id": "8cad03c7",
   "metadata": {},
   "source": [
    "```excel\n",
    "XLOOKUP(lookup_value, lookup_array, return_array, [if_not_found], [match_mode], [search_mode])\n"
   ]
  },
  {
   "cell_type": "markdown",
   "id": "4da6e7f1",
   "metadata": {},
   "source": [
    "___"
   ]
  },
  {
   "cell_type": "markdown",
   "id": "fcf44bac",
   "metadata": {},
   "source": [
    "```excel\n",
    "=XLOOKUP(\"H\",A2:A5,D2:D5)\n"
   ]
  },
  {
   "cell_type": "markdown",
   "id": "c1c09bdf",
   "metadata": {},
   "source": [
    "- 33 IS THE ANSWER\n",
    "___"
   ]
  },
  {
   "cell_type": "markdown",
   "id": "d6621fb5",
   "metadata": {},
   "source": [
    "```excel\n",
    "=XLOOKUP(\"C\",A1:E1,A5:E5)"
   ]
  },
  {
   "cell_type": "markdown",
   "id": "f74b1d12",
   "metadata": {},
   "source": [
    "- 8 \n",
    "___"
   ]
  },
  {
   "cell_type": "markdown",
   "id": "38ca64fd",
   "metadata": {},
   "source": [
    "![](images/lookup.png)"
   ]
  },
  {
   "cell_type": "markdown",
   "id": "0b07f794",
   "metadata": {},
   "source": [
    "### VLOOKUP\n",
    "- lookup value is 3 , we are vertically searching for 3 first \n",
    "- =VLOOKUP(3,B2:E5,4,0)\n",
    "- RETURN 90"
   ]
  },
  {
   "cell_type": "markdown",
   "id": "6272b8f8",
   "metadata": {},
   "source": [
    "### HLOOKUP\n",
    "- =HLOOKUP(6,A3:E5,0)\n",
    "- RETURN 8"
   ]
  },
  {
   "cell_type": "markdown",
   "id": "da579082",
   "metadata": {},
   "source": []
  }
 ],
 "metadata": {
  "language_info": {
   "name": "python"
  }
 },
 "nbformat": 4,
 "nbformat_minor": 5
}

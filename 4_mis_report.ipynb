{
 "cells": [
  {
   "cell_type": "markdown",
   "metadata": {},
   "source": [
    "## management information system"
   ]
  },
  {
   "cell_type": "markdown",
   "metadata": {},
   "source": [
    "- used to provide key performance insight to management for decision making ,reports are typically generated from business data-sales,finance,operations,HR etc."
   ]
  },
  {
   "cell_type": "markdown",
   "metadata": {},
   "source": [
    "- procedure to create interactive report using excel\n"
   ]
  },
  {
   "cell_type": "markdown",
   "metadata": {},
   "source": [
    "- select data \n",
    "- inset -> tables(group) ->pivot table\n",
    "     - select table range\n",
    "     - new worksheet"
   ]
  },
  {
   "cell_type": "markdown",
   "metadata": {},
   "source": [
    "![pivot](images/pv1.png)\n",
    "![pivot](images/pv2.png)"
   ]
  },
  {
   "cell_type": "markdown",
   "metadata": {},
   "source": [
    "- on empty pivot table drag and drop on rows,values,columns\n",
    "- select all data in pivot table \n",
    "   - insert -> pivot chart ->select one\n",
    "  \n",
    "\n",
    "- draw multiple pivot charts\n",
    "    - select one\n",
    "    - pivotChart Analysis -> actions(group) -> Move Chart -> object in -> select sheet no -> ok\n",
    "\n",
    "- pivotChart analyze\n",
    "     - insert slicer\n",
    "     \n",
    "- a slicer may simply connected to just a single chart ,inorder to connect to mutiple charts\n",
    "   - remove all selections on slice (if any)\n",
    "   - right click on a slicer->  Report Connections -> select all pivot tables\n",
    "   \n",
    "- disable all macros when working mis\n",
    "- convert entire data into regular table format\n",
    "- \n",
    "\n"
   ]
  },
  {
   "cell_type": "markdown",
   "metadata": {},
   "source": []
  }
 ],
 "metadata": {
  "language_info": {
   "name": "python"
  }
 },
 "nbformat": 4,
 "nbformat_minor": 2
}

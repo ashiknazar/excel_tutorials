{
 "cells": [
  {
   "cell_type": "markdown",
   "metadata": {},
   "source": [
    "\n",
    "- [slicers in excel](2_slicers.ipynb)\n",
    "- [excel bidget template](3_bidget.ipynb)\n",
    "- [excel mis report](4_mis_report.ipynb)\n",
    "- [excel macros and vba for beginners](5_macros.ipynb)\n",
    "- [regression in excel](6_reg.ipynb)\n",
    "- [excel power query](7_power_query.ipynb)\n",
    "- pivot tables in excel\n"
   ]
  },
  {
   "cell_type": "markdown",
   "metadata": {},
   "source": [
    "![toolbar menu](images/toolbar.png)\n"
   ]
  },
  {
   "cell_type": "markdown",
   "metadata": {},
   "source": [
    "![toolbar menu](images/tool_ribbons.png)"
   ]
  },
  {
   "cell_type": "markdown",
   "metadata": {},
   "source": [
    "![toolbar_group](images/tool_group.png)"
   ]
  },
  {
   "cell_type": "markdown",
   "metadata": {},
   "source": [
    "![toolbar_more](images/tool_more.png)"
   ]
  },
  {
   "cell_type": "markdown",
   "metadata": {},
   "source": [
    "![cell_address](images/cell_address.png)"
   ]
  },
  {
   "cell_type": "markdown",
   "metadata": {},
   "source": [
    "![sheet_tracker](images/sheet_tracker.png)"
   ]
  },
  {
   "cell_type": "markdown",
   "metadata": {},
   "source": [
    "- dbl click on top of column to adjust size of cell\n",
    "- select multiple cells -> Home -> merge&center\n",
    "- select a column/row -> right click -> insert ->will insert a column or row\n",
    "- insert a column -> give a name -> insert '1' in below cell ->  there will be a small box structure on the bottom right corner of cell -> drag to fill all the columns (this will copy).there will be another box appearing at bottom->choose fill series(will fill 1,2,3)\n",
    "    -  the box doesnt appear in my version -> i typed 1,2 in next -> selected both by pressing shift and dragged it worked\n",
    "![fill](images/fill_series.png)\n"
   ]
  },
  {
   "cell_type": "markdown",
   "metadata": {},
   "source": [
    "#### Locking cells\n",
    "- select top-left portion where row,column labels meet (to select all the data)\n",
    "- right click on any cell position  ->``format cells``\n",
    " ![protection](images/protection.png)"
   ]
  },
  {
   "cell_type": "markdown",
   "metadata": {},
   "source": [
    "- select 2 columns -> right click -> format cells -> protection -> remove selection from Lock -> ok"
   ]
  },
  {
   "cell_type": "markdown",
   "metadata": {},
   "source": [
    "### Protecting sheet\n",
    "- on sheet tracker -> right click on sheet name -> protect sheet ->set password -> ok\n"
   ]
  },
  {
   "cell_type": "markdown",
   "metadata": {},
   "source": [
    "### page setup \n",
    "- if we have 1000 rows in our data printing all data on a page wont make sense\n",
    "- 1. File -> Print \n",
    "- 2. ctrl+p\n",
    "- 3. Page Layout (Toolbar) ->\n",
    "- 4.  View(Toolbar) ->\n"
   ]
  },
  {
   "cell_type": "markdown",
   "metadata": {},
   "source": [
    "##### ctrl_p\n",
    "- `print active sheets`\n",
    "- `print entire workbook` there can be mutiple sheets\n",
    "-  `print selection`\n",
    "<br>\n",
    "<br>\n",
    "- `collated` 1,2,3  | 1,2,3 | 1,2,3\n",
    "- `uncollated ` 1,1,1  |2,2,2|  3,3,3\n",
    "<br>\n",
    "<br>\n",
    "- `portrait`\n",
    "- ``landscape``"
   ]
  },
  {
   "cell_type": "markdown",
   "metadata": {},
   "source": [
    "### page layout(tool bar )\n",
    "- <b>page setup </b> group\n",
    "- `breaks`\n",
    "- Breaks - > `reset all page breaks ` \n",
    "### Print titles\n",
    "- `print titles` -> for giving titles for each page when we have large no of rows  \n",
    "  - `sheet` -> `Rows to repeat at top`  (select icon on right - > select first row (headings))\n",
    "  \n"
   ]
  },
  {
   "cell_type": "markdown",
   "metadata": {},
   "source": []
  },
  {
   "cell_type": "markdown",
   "metadata": {},
   "source": [
    "### goal seek in excel\n",
    "- make the cell to forcast empty\n",
    "- crate a target cell (like declaring 75)\n",
    "- Data(toolbar)-> forcast -> what if analysis -> goal seek"
   ]
  },
  {
   "cell_type": "markdown",
   "metadata": {},
   "source": [
    "![goal_seek](images/goal_seek.png)"
   ]
  },
  {
   "cell_type": "markdown",
   "metadata": {},
   "source": [
    "#### Goal Seek\n",
    "- set cell : $m$9 (percentage -> need a percentage of 75 for that what to do)\n",
    "- To value: 75\n",
    "- By changing cell:select a cell that need to be modified (to get percentage as 75 we have to adjust this cell)\n",
    "- ok "
   ]
  },
  {
   "cell_type": "markdown",
   "metadata": {},
   "source": [
    "### charts"
   ]
  },
  {
   "cell_type": "markdown",
   "metadata": {},
   "source": []
  },
  {
   "cell_type": "markdown",
   "metadata": {},
   "source": [
    "- select all data\n",
    "    - insert -> charts - > pie chart 3d\n",
    "    - dbl click on each section and explode\n",
    "- column chart\n",
    "   - select data \n",
    "   - alt+f1\n",
    "       - instead of years we may get 1,2,3,4 in x label(here)\n",
    "          - ``chart design``  ->``select data``\n"
   ]
  },
  {
   "cell_type": "markdown",
   "metadata": {},
   "source": [
    "![chart design](images/chart_design.png)"
   ]
  },
  {
   "cell_type": "markdown",
   "metadata": {},
   "source": []
  },
  {
   "cell_type": "markdown",
   "metadata": {},
   "source": [
    "- select year (legend entries) and remove\n",
    "- Horizontal (category) axis labels\n",
    "    - edit -> select column for axis range(year)\n",
    "    ->ok\n"
   ]
  },
  {
   "cell_type": "markdown",
   "metadata": {},
   "source": [
    "- `chart design` -> ``change chart type``-> ``combo``"
   ]
  },
  {
   "cell_type": "markdown",
   "metadata": {},
   "source": [
    "### pivot chart \n",
    "![pivot](images/pivot.png)"
   ]
  },
  {
   "cell_type": "markdown",
   "metadata": {},
   "source": [
    "<a id=\"my-target-cell\"></a>\n",
    "\n",
    "## Target Cell\n",
    "\n",
    "This is the content of the target cell.\n"
   ]
  },
  {
   "cell_type": "markdown",
   "metadata": {},
   "source": [
    "### calculating percentage\n",
    "- F2 contains mark obtained\n",
    "- H2 contains total mark\n",
    "- in G2 i want percentage\n",
    "   - in G2 write formula \n",
    "   - =F2/H2*100 \n",
    "   - drag"
   ]
  },
  {
   "cell_type": "markdown",
   "metadata": {},
   "source": [
    "### spark lines"
   ]
  },
  {
   "cell_type": "markdown",
   "metadata": {},
   "source": [
    "- merge the cells above and make space\n",
    "- select data from a columns\n",
    "\n",
    "- insert -> sparklines(group) ->column ->\n",
    "- location range :select cell(merged )above to plot ->ok\n",
    "\n",
    "![sparklines](images/spark1.png)\n",
    "![sparklines](images/spark2.png)\n",
    "\n"
   ]
  },
  {
   "cell_type": "markdown",
   "metadata": {},
   "source": [
    "- can add axis\n",
    "- spark line ->show (group)-> highpoint|low point\n",
    "- axis(Group) -> Date axis type ->select the single (merged )cell\n",
    "- axis -> show axis\n",
    "- drag to fill on all cells above"
   ]
  },
  {
   "cell_type": "markdown",
   "metadata": {},
   "source": [
    "\n",
    "-  can add new row but inorder to reflect that\n",
    "    - sparkline ->edit data ( sparkline group) ->\n",
    "     - select entire data -> ok"
   ]
  },
  {
   "cell_type": "markdown",
   "metadata": {},
   "source": [
    "- Design -> Edit Data -> Edit single sparklines data"
   ]
  },
  {
   "cell_type": "markdown",
   "metadata": {},
   "source": [
    "### Data validation\n",
    "- select a column\n",
    "- Data -> Data tools(group) ->Data validation\n",
    "- settings | input message | error alert"
   ]
  },
  {
   "cell_type": "markdown",
   "metadata": {},
   "source": [
    "- list drop down reference from another sheet\n",
    "     - select 'collapse dialog' icon and choose fields from next page\n",
    "     "
   ]
  },
  {
   "cell_type": "markdown",
   "metadata": {},
   "source": [
    "### VLOOKUP"
   ]
  },
  {
   "cell_type": "markdown",
   "metadata": {},
   "source": [
    "- VERTICAL lookup is a function that allows you to search for a particular value in a column and returns another calue from a different column but of same row\n",
    "- VLOOKUP ( value ,table,index_number,[range_lookup])\n"
   ]
  },
  {
   "cell_type": "markdown",
   "metadata": {},
   "source": [
    "- value\n",
    "    - represents the value that you are searching for\n",
    "- table\n",
    "    - two or more columns of information\n",
    "- index_number\n",
    "    - represents the column number in the table from which the value must be returned.the count of the first column is always 1\n",
    "- range lookup\n",
    "    - to find exact match -> false, approximate match ->true"
   ]
  },
  {
   "cell_type": "markdown",
   "metadata": {},
   "source": [
    "![vlookup](images/vl.png)"
   ]
  },
  {
   "cell_type": "markdown",
   "metadata": {},
   "source": [
    "- inside a cell write vlookup formula\n",
    "  - write ``Thompson`` in a cell(j17 here) ->value \n",
    "  - select columns first must be the one with value -> table\n",
    "  - index number ,starts from 1 ,give here 2 because thats what we have to find \n",
    "  - =VLOOKUP(j17,L1:M12,2,FALSE)   ->  FALSE/0"
   ]
  },
  {
   "cell_type": "markdown",
   "metadata": {},
   "source": [
    "- FORMULAS  -> Lookup & references -> vlookup"
   ]
  },
  {
   "cell_type": "markdown",
   "metadata": {},
   "source": [
    "#### Approximate match\n",
    "- if value is matt(a name) it may not be present in column\n",
    "- column must be already in sorted order\n",
    "- gives the value just before possible position ,calculated by alphabetical position\n",
    "       - suppose there are values kevin,morgan (in sorted) then if it exist matt comes just before morgan ,ie will return kevin's"
   ]
  },
  {
   "cell_type": "markdown",
   "metadata": {},
   "source": [
    "- vlookup always looks right\n",
    "-  it wont work if lookup value is on right and value you are looking for is on the left\n",
    "            - order|name|sales  ->if is the order ->you cannot look for order with name =>vlookup(name,...order)"
   ]
  },
  {
   "cell_type": "markdown",
   "metadata": {},
   "source": [
    "- vlookup only return the first match\n",
    "- if multiple rows with same lookup value ,first one returned\n",
    "- case insensitive"
   ]
  },
  {
   "cell_type": "markdown",
   "metadata": {},
   "source": [
    "#### wildcard\n",
    "- exact match 0/FALSE\n",
    "- NAME starts with 'Ki' type it in J17(eg.)\n",
    "- =VLOOKUP(J17&\"*\",tablearry,index_no,0)\n",
    "- & represents concatination .\n",
    "-  \\* -> anything\n",
    "\n",
    "<b> OR</b>\n",
    "\n",
    "- can directly write 'ki' in the formula\n",
    "- =vlookup(\"ki\"&\"*\",table_array,index_no,0)"
   ]
  },
  {
   "cell_type": "markdown",
   "metadata": {},
   "source": [
    "#### replace #na error with friendly message"
   ]
  },
  {
   "cell_type": "markdown",
   "metadata": {},
   "source": [
    "- =IFNA(VLOOKUP(c20,a1:b12,2,0),\"invalid date\") \n",
    "- =IFERROR(VLOOKUP(C20, A1:B12, 2, 0), \"invalid date\")\n"
   ]
  },
  {
   "cell_type": "markdown",
   "metadata": {},
   "source": [
    "#### two way lookup\n",
    " - MATCH FUNCTION"
   ]
  },
  {
   "cell_type": "markdown",
   "metadata": {},
   "source": [
    "![vlookup](images/mat.png)"
   ]
  },
  {
   "cell_type": "markdown",
   "metadata": {},
   "source": [
    "- unit cost (k4)\n",
    "- = match(k4,c1:f1,0)\n",
    "   - will return 4 \n",
    "   - c1:f1 titles,unit prize is at 4th index\n",
    "    "
   ]
  },
  {
   "cell_type": "markdown",
   "metadata": {},
   "source": [
    "- j5 -> morgan \n",
    "- = vlookup(j5,c1:f12,match(...))"
   ]
  },
  {
   "cell_type": "markdown",
   "metadata": {},
   "source": [
    "#### how much sales did andrews make in the central region??\n"
   ]
  },
  {
   "cell_type": "markdown",
   "metadata": {},
   "source": [
    "- create a new column by concatination\n",
    "  - east(region)(R7) , Jones(rep)(s7) - > = ``R7&S7``\n",
    "  - drag and fill"
   ]
  },
  {
   "cell_type": "markdown",
   "metadata": {},
   "source": [
    "![vlookup](images/multi.png)"
   ]
  },
  {
   "cell_type": "markdown",
   "metadata": {},
   "source": [
    "- =vlookup(j11&k11,t6:x17,5,0)"
   ]
  },
  {
   "cell_type": "markdown",
   "metadata": {},
   "source": [
    "## HLOOKUP"
   ]
  },
  {
   "cell_type": "markdown",
   "metadata": {},
   "source": [
    "![hlookup](images/hlook.png)"
   ]
  },
  {
   "cell_type": "markdown",
   "metadata": {},
   "source": [
    "- create a cell with a drop down menu of all employee names -> changing it will change curresponding lookup value\n",
    "- EMP ID of clark (index of emp id-2)\n",
    "- = hlookup(h7,b2:f4,2,FALSE)"
   ]
  },
  {
   "cell_type": "markdown",
   "metadata": {},
   "source": [
    "## xlookup"
   ]
  },
  {
   "cell_type": "markdown",
   "metadata": {},
   "source": [
    "![hlookup](images/xlookup_1.png)\n",
    "![hlookup](images/xlookup_2.png)\n",
    "![hlookup](images/xlookup_3.png)"
   ]
  },
  {
   "cell_type": "markdown",
   "metadata": {},
   "source": [
    "- emily was an intern early ,now promoted to developer.\n",
    "- instead of first we need the latest lookup value"
   ]
  },
  {
   "cell_type": "markdown",
   "metadata": {},
   "source": [
    "- A2 in sheet2(mary)\n",
    "- = XLOOKUP(A2,Table1[Name],Table1[Department],,)\n",
    "- will give suggestion  0 ->exact match select and type , \n",
    "- gives suggestions 1 ->search first to last, -1 -> search last to first\n",
    "<br>"
   ]
  },
  {
   "cell_type": "markdown",
   "metadata": {},
   "source": [
    "\n",
    "- since the salary is not exact match we go for exact match ot next smaller item in bonus calculation (-1)"
   ]
  },
  {
   "cell_type": "markdown",
   "metadata": {},
   "source": [
    "![next_sm1](images/next_sm1.png)\n",
    "![next_sm2](images/next_sm2.png)"
   ]
  },
  {
   "cell_type": "markdown",
   "metadata": {},
   "source": []
  }
 ],
 "metadata": {
  "language_info": {
   "name": "python"
  }
 },
 "nbformat": 4,
 "nbformat_minor": 2
}

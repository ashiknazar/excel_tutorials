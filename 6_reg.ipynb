{
 "cells": [
  {
   "cell_type": "markdown",
   "metadata": {},
   "source": [
    "- insert ->charts -> insert scatter or bubble ->scatter\n",
    "- will give blank chart\n",
    "- selecting the plot will choose Design on Toolbar ->(Data group) Select Data\n",
    "-> Add ->\n",
    "- Series Xvalues: can select mutiple x values\n",
    "- Series y values : select y column\n",
    "- ok\n",
    "\n",
    "- (Design toolbar) -> chart layout(group) ->select"
   ]
  },
  {
   "cell_type": "markdown",
   "metadata": {},
   "source": [
    "___\n",
    "Data -> Analyze(group) ->Data Analysis \n",
    "-> Regression -> \n",
    "___"
   ]
  },
  {
   "cell_type": "markdown",
   "metadata": {},
   "source": [
    "#### Multiple R\n",
    "\n",
    "- Multiple Correlation Coefficient\n",
    "- is the correlation between the observed values of the dependent variable and the predicted values\n",
    "- It reflects the strength and direction of the linear relationship between the dependent variable and the set of independent variables.\n",
    "-   0 to 1\n",
    "      - 0 means no linear relationshipbetween the observed and predicted values.\n",
    "      - 1 means a perfect linear relationship."
   ]
  },
  {
   "cell_type": "markdown",
   "metadata": {},
   "source": [
    "- Interpreting Multiple R:\n",
    "    - A higher value of Multiple R suggests that the independent variables do a good job of predicting the dependent variable.\n",
    "    - A value close to 0 means the predictors have little to no predictive power over the response variable."
   ]
  },
  {
   "cell_type": "markdown",
   "metadata": {},
   "source": [
    "#### R-squared (coefficient of determination)\n",
    "- R-squared is the proportion of variance in the dependent variable that is explained by the independent variables.\n",
    "- R-squared is often used to assess the goodness-of-fit of the model.\n",
    "- A higher R-squared indicates a better fit of the model to the data\n",
    "- Multiple R is just the square root of R-squared. Thus, Multiple R gives you the correlation between the observed and predicted values."
   ]
  },
  {
   "cell_type": "markdown",
   "metadata": {},
   "source": [
    "- 0 means none of the variance in the dependent variable is explained by the model (the model is no better than using the mean).\n",
    "- 1 means the model explains 100% of the variance in the dependent variable."
   ]
  },
  {
   "cell_type": "markdown",
   "metadata": {},
   "source": [
    "- A Multiple R of 0.85 means that the correlation between the predicted and observed values is 0.85, and the \n",
    "r^2(proportion of explained variance) will be \n",
    ".85*.85 =0.7225, or 72.25%. This means the model explains 72.25% of the variability in the dependent variable."
   ]
  },
  {
   "cell_type": "markdown",
   "metadata": {},
   "source": [
    "### Adjusted $R^2$"
   ]
  },
  {
   "cell_type": "markdown",
   "metadata": {},
   "source": [
    "-  is a modified version of the standard $R^2$\n",
    "- that adjusts for the number of predictors (independent variables) in a regression model\n",
    "- It is used to give a more accurate measure of how well the model explains the dependent variable, especially when multiple predictors are included in the model.\n",
    "- The main issue with $R^2$ is that it always increases or stays the same as more predictors are added to the model, even if those predictors are irrelevant or don't contribute meaningfully to explaining the variance. This can lead to overfitting, where the model appears to fit the data better than it actually does, but performs poorly on new data.\n",
    "- corrects for this by penalizing the inclusion of unnecessary predictors"
   ]
  },
  {
   "cell_type": "markdown",
   "metadata": {},
   "source": [
    "#### ANOVA stands for Analysis of Variance"
   ]
  },
  {
   "cell_type": "markdown",
   "metadata": {},
   "source": [
    "- it is a statistical method used to compare the means of two or more groups to determine if there are statistically significant differences between them"
   ]
  },
  {
   "cell_type": "markdown",
   "metadata": {},
   "source": []
  },
  {
   "cell_type": "markdown",
   "metadata": {},
   "source": [
    "```EXCEL\n",
    "= SLOPE(C2:C11,D2:D11)\n",
    "= INTERCEPT(C2:C11,D2:D11)\n",
    "= RSQ(C2:C11,D2:D11)"
   ]
  },
  {
   "cell_type": "markdown",
   "metadata": {},
   "source": []
  },
  {
   "cell_type": "markdown",
   "metadata": {},
   "source": []
  }
 ],
 "metadata": {
  "language_info": {
   "name": "python"
  }
 },
 "nbformat": 4,
 "nbformat_minor": 2
}

{
 "cells": [
  {
   "cell_type": "markdown",
   "metadata": {},
   "source": [
    "- a macro in excel is a set of tasks that you can execute as many times as you want.when you create a macro,you are recording your mouse clicks and keystrokes"
   ]
  },
  {
   "cell_type": "markdown",
   "metadata": {},
   "source": [
    "- File -> Options -> Customize Ribbon ->Developer (Main tabs) ->ok\n",
    "- this will add a Developer tab on toolbar\n"
   ]
  },
  {
   "cell_type": "markdown",
   "metadata": {},
   "source": [
    "<b>OR</b>\n",
    "- click on any of the tabs on ribbon ->customize ribbon ->can select Developer"
   ]
  },
  {
   "cell_type": "markdown",
   "metadata": {},
   "source": [
    "- Developer -> Record Macro ->\n",
    "   - Macro name: WorkorderAccounts\n",
    "   - store macro in : This workbook\n",
    "   - Description:\n",
    "   <br>\n",
    "   ___\n",
    "- DELETE UNWANTED COLUMNS \n",
    "- Developer -> stop recording\n",
    "___"
   ]
  },
  {
   "cell_type": "markdown",
   "metadata": {},
   "source": [
    "- to execute this macro in another page. go to that page and\n",
    "- Developer ->macros(code -group) -> select tha macro ->Run\n"
   ]
  },
  {
   "cell_type": "markdown",
   "metadata": {},
   "source": [
    "- to add a button instead of the above steps to execute a macro\n",
    "   -  Developer -> insert (controls -group) -> form controls ->select a button ->drag and draw a button -> new window will open and ask to assign a macro ->"
   ]
  },
  {
   "cell_type": "markdown",
   "metadata": {},
   "source": [
    "- another way to deal with macros\n",
    "   - view macros| Record macros"
   ]
  },
  {
   "cell_type": "markdown",
   "metadata": {},
   "source": [
    "### edit macros"
   ]
  },
  {
   "cell_type": "markdown",
   "metadata": {},
   "source": [
    "-  Developer -> Visual Basic "
   ]
  },
  {
   "cell_type": "markdown",
   "metadata": {},
   "source": [
    "## VBA"
   ]
  },
  {
   "cell_type": "markdown",
   "metadata": {},
   "source": [
    "- visual basic applications is the programming language of excel that helps you to automate tasks by writing macros"
   ]
  },
  {
   "cell_type": "markdown",
   "metadata": {},
   "source": [
    "![vba editor interface](images/vba.png)"
   ]
  },
  {
   "cell_type": "markdown",
   "metadata": {},
   "source": [
    "- Alt +f11\n",
    "-  which will opern vba window \n",
    "- record a macro and see code developing\n",
    "- saved as format columns\n",
    "- in vba page\n",
    "   -  vba project\n",
    "       - modules\n",
    "          - module1 "
   ]
  },
  {
   "cell_type": "markdown",
   "metadata": {},
   "source": [
    "___\n",
    "- number -> module name"
   ]
  },
  {
   "cell_type": "markdown",
   "metadata": {},
   "source": [
    "```vba\n",
    "Sub number()\n",
    "End Sub\n",
    "```"
   ]
  },
  {
   "cell_type": "markdown",
   "metadata": {},
   "source": [
    "___\n",
    "- Dim is a key word( dimention) used to decalre a variable\n",
    "\n",
    "```vba\n",
    "Sub number()\n",
    "Dim x As Integer\n",
    "x=500\n",
    "Range(\"B5\").Value=x\n",
    "End Sub\n",
    "```"
   ]
  },
  {
   "cell_type": "markdown",
   "metadata": {},
   "source": [
    "```vba\n",
    "Sub string_value()\n",
    "Dim country As String\n",
    "country=\"America\"\n",
    "Range(\"G4\").Value=country\n",
    "End Sub\n",
    "```"
   ]
  },
  {
   "cell_type": "markdown",
   "metadata": {},
   "source": [
    "\n",
    "```vba\n",
    "Sub double_value()\n",
    "    Dim a As Double  ' Declare the variable 'a' with type Double\n",
    "    a = 250  ' Assign the value 250 to 'a'\n",
    "    MsgBox \"Value of a is \" & a  ' Display the value of 'a' in a message box\n",
    "End Sub\n",
    "\n",
    "```"
   ]
  },
  {
   "cell_type": "markdown",
   "metadata": {},
   "source": [
    "```vba\n",
    "Sub FunwithProcedure()\n",
    "Dim userinput As String\n",
    "userinput = \"this is a report\"\n",
    "ActiveCell.value=userinput\n",
    "End Sub\n",
    "```"
   ]
  },
  {
   "cell_type": "markdown",
   "metadata": {},
   "source": [
    "___"
   ]
  },
  {
   "cell_type": "markdown",
   "metadata": {},
   "source": [
    "#### if condition"
   ]
  },
  {
   "cell_type": "markdown",
   "metadata": {},
   "source": [
    "```vba\n",
    "\n",
    "\n",
    "\n",
    "If age >= 18 Then\n",
    "    MsgBox \"Adult\"\n",
    "Else\n",
    "    MsgBox \"Minor\"\n",
    "End If\n",
    "\n",
    "\n",
    "```"
   ]
  },
  {
   "cell_type": "markdown",
   "metadata": {},
   "source": [
    "#### for "
   ]
  },
  {
   "cell_type": "markdown",
   "metadata": {},
   "source": [
    "```vba\n",
    "\n",
    "Dim i As Integer\n",
    "For i = 1 To 5\n",
    "    MsgBox \"Count: \" & i\n",
    "Next i\n",
    "\n",
    "```"
   ]
  },
  {
   "cell_type": "markdown",
   "metadata": {},
   "source": [
    "#### while loop"
   ]
  },
  {
   "cell_type": "markdown",
   "metadata": {},
   "source": [
    "```vba\n",
    "Dim i As Integer\n",
    "i = 1\n",
    "Do While i <= 5\n",
    "    MsgBox \"Loop: \" & i\n",
    "    i = i + 1\n",
    "Loop\n",
    "```"
   ]
  },
  {
   "cell_type": "markdown",
   "metadata": {},
   "source": [
    "#### to copy data from one sheet to another"
   ]
  },
  {
   "cell_type": "markdown",
   "metadata": {},
   "source": [
    "```vba\n",
    "Sub CopyData()\n",
    "    Sheets(\"Sheet1\").Range(\"A1:A10\").Copy\n",
    "    Sheets(\"Sheet2\").Range(\"B1\").PasteSpecial Paste:=xlPasteValues\n",
    "    Application.CutCopyMode = False\n",
    "    MsgBox \"Data copied!\"\n",
    "End Sub\n"
   ]
  }
 ],
 "metadata": {
  "language_info": {
   "name": "python"
  }
 },
 "nbformat": 4,
 "nbformat_minor": 2
}

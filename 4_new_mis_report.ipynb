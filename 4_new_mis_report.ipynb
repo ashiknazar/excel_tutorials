{
 "cells": [
  {
   "cell_type": "markdown",
   "id": "daf8a33c",
   "metadata": {
    "vscode": {
     "languageId": "raw"
    }
   },
   "source": [
    "|Year| Car   | Type |Quantity | Price|\n",
    "|----|-------|------|---------|------|\n",
    "|2022| Toyota| Sedan|120      | 22000|\n",
    "|2022| FOrd  |SUV   | 75      | 18000|"
   ]
  },
  {
   "cell_type": "markdown",
   "id": "a4e6d7fe",
   "metadata": {},
   "source": [
    "- Select entire dataset\n",
    "- insert -> PivotTable\n",
    "- Year to Rows\n",
    "- Car/Type  ->  Columns\n",
    "- Quantity/Price -> Values\n",
    "    - press dropdown on (Sum of Price) -> Value Field Settings"
   ]
  },
  {
   "cell_type": "markdown",
   "id": "db14e4b3",
   "metadata": {},
   "source": [
    "- insert -> slicer"
   ]
  },
  {
   "cell_type": "markdown",
   "id": "ad569640",
   "metadata": {},
   "source": [
    "- create another pivot table \n",
    "- right click on previously created slicer -> PivotTable connections ->select all pivot tables needed"
   ]
  },
  {
   "cell_type": "markdown",
   "id": "413f741b",
   "metadata": {},
   "source": [
    "- HOme -> COnditional formating"
   ]
  }
 ],
 "metadata": {
  "kernelspec": {
   "display_name": "Python 3",
   "language": "python",
   "name": "python3"
  },
  "language_info": {
   "name": "python",
   "version": "3.12.3"
  }
 },
 "nbformat": 4,
 "nbformat_minor": 5
}
